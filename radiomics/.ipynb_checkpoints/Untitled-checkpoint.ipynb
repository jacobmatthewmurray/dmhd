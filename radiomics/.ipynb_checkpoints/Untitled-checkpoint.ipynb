{
 "cells": [
  {
   "cell_type": "code",
   "execution_count": null,
   "metadata": {},
   "outputs": [],
   "source": [
    "# Lesion Segmentation"
   ]
  },
  {
   "cell_type": "code",
   "execution_count": 21,
   "metadata": {},
   "outputs": [],
   "source": [
    "import nrrd\n",
    "import numpy as np \n",
    "\n",
    "from matplotlib import pyplot as plt\n",
    "from PIL import Image\n",
    "from ipycanvas import MultiCanvas"
   ]
  },
  {
   "cell_type": "code",
   "execution_count": 13,
   "metadata": {},
   "outputs": [],
   "source": [
    "data, header = nrrd.read('fullImage.nrrd')"
   ]
  },
  {
   "cell_type": "code",
   "execution_count": 52,
   "metadata": {},
   "outputs": [],
   "source": [
    "from ipywidgets import ColorPicker, IntSlider, link, AppLayout, HBox\n",
    "\n",
    "from ipycanvas import MultiCanvas, hold_canvas"
   ]
  },
  {
   "cell_type": "code",
   "execution_count": 81,
   "metadata": {},
   "outputs": [
    {
     "data": {
      "application/vnd.jupyter.widget-view+json": {
       "model_id": "67f7f478db414496af7e69f539cd55a3",
       "version_major": 2,
       "version_minor": 0
      },
      "text/plain": [
       "MultiCanvas(layout=Layout(height='512px', width='512px'), size=(512, 512))"
      ]
     },
     "metadata": {},
     "output_type": "display_data"
    }
   ],
   "source": [
    "canvas = MultiCanvas(2, size=(512, 512))\n",
    "\n",
    "background_layer = canvas[0]\n",
    "drawing_layer = canvas[1]\n",
    "\n",
    "drawing = False\n",
    "start = None\n",
    "\n",
    "\n",
    "def draw_line(canvas, end):\n",
    "#     canvas.begin_path()\n",
    "#     canvas.move_to(start[0], start[1])\n",
    "    canvas.line_to(end[0], end[1])\n",
    "    canvas.stroke()\n",
    "#     canvas.close_path()\n",
    "\n",
    "    \n",
    "def on_mouse_up(x, y):\n",
    "    global drawing\n",
    "    if drawing:\n",
    "        drawing = False\n",
    "        canvas.close_path()\n",
    "\n",
    "def on_mouse_down(x, y):\n",
    "    global drawing\n",
    "    global start\n",
    "\n",
    "    if not drawing:\n",
    "        canvas.begin_path()\n",
    "        canvas.move_to(x, y)\n",
    "        drawing = True\n",
    "\n",
    "def on_mouse_move(x, y):\n",
    "    global drawing\n",
    "    global start\n",
    "    \n",
    "    if not drawing:\n",
    "        return\n",
    "    else:\n",
    "        draw_line(drawing_layer, (x, y))\n",
    "#         with hold_canvas(canvas):\n",
    "\n",
    "            \n",
    "    \n",
    "\n",
    "drawing_layer.on_mouse_down(on_mouse_down)\n",
    "drawing_layer.on_mouse_up(on_mouse_up)\n",
    "drawing_layer.on_mouse_move(on_mouse_move)\n",
    "\n",
    "background_layer.put_image_data(data, 0, 0,)\n",
    "\n",
    "# drawing_layer.fill_style = 'rgba(255, 0, 0, 0.005)'\n",
    "drawing_layer.stroke_style = 'rgba(255, 0, 0, 0.5)'\n",
    "drawing_layer.line_width = 3\n",
    "\n",
    "canvas\n",
    "# picker = ColorPicker(description='Color:', value='#749cb8')\n",
    "# slider = IntSlider(description='Line width:', value=3, min=1, max=20)\n",
    "\n",
    "# link((picker, 'value'), (drawing_layer, 'fill_style'))\n",
    "# link((picker, 'value'), (interaction_layer, 'stroke_style'))\n",
    "# link((slider, 'value'), (drawing_layer, 'line_width'))\n",
    "# link((slider, 'value'), (interaction_layer, 'line_width'))\n",
    "\n",
    "# AppLayout(center=canvas, footer=HBox((picker, slider)))"
   ]
  }
 ],
 "metadata": {
  "kernelspec": {
   "display_name": "Python 3",
   "language": "python",
   "name": "python3"
  },
  "language_info": {
   "codemirror_mode": {
    "name": "ipython",
    "version": 3
   },
   "file_extension": ".py",
   "mimetype": "text/x-python",
   "name": "python",
   "nbconvert_exporter": "python",
   "pygments_lexer": "ipython3",
   "version": "3.7.0"
  }
 },
 "nbformat": 4,
 "nbformat_minor": 4
}
